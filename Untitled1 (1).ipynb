{
  "nbformat": 4,
  "nbformat_minor": 0,
  "metadata": {
    "colab": {
      "provenance": []
    },
    "kernelspec": {
      "name": "python3",
      "display_name": "Python 3"
    },
    "language_info": {
      "name": "python"
    }
  },
  "cells": [
    {
      "cell_type": "code",
      "execution_count": 2,
      "metadata": {
        "colab": {
          "base_uri": "https://localhost:8080/"
        },
        "id": "ttXXJXCIDanY",
        "outputId": "52a5f866-97ed-4944-d675-36c5dee4bbc6"
      },
      "outputs": [
        {
          "output_type": "stream",
          "name": "stdout",
          "text": [
            "40\n"
          ]
        }
      ],
      "source": [
        "var1 = 10\n",
        "var2 = 30\n",
        "print(var1+var2)"
      ]
    },
    {
      "cell_type": "code",
      "source": [
        "int_var1 = int(input(\"enter first value: \"))\n",
        "int_var2 = int(input(\"enter second value: \"))\n",
        "print(int_var1 + int_var2)"
      ],
      "metadata": {
        "colab": {
          "base_uri": "https://localhost:8080/"
        },
        "id": "JMMYCUZ5D_pv",
        "outputId": "0ddb1ba6-e81b-4b83-d936-f9f8c1707a24"
      },
      "execution_count": 6,
      "outputs": [
        {
          "output_type": "stream",
          "name": "stdout",
          "text": [
            "enter first value: 48\n",
            "enter second value: 52\n",
            "100\n"
          ]
        }
      ]
    },
    {
      "cell_type": "code",
      "source": [
        "variable1 = input(\"enter your Name: \")\n",
        "variable2 = input(\"enter your surname: \")\n",
        "print(variable1 + variable2)"
      ],
      "metadata": {
        "colab": {
          "base_uri": "https://localhost:8080/"
        },
        "id": "AfsIABy6OWAp",
        "outputId": "41fedadf-17fd-4ed7-d75e-95292e76bbf4"
      },
      "execution_count": 13,
      "outputs": [
        {
          "output_type": "stream",
          "name": "stdout",
          "text": [
            "enter your Name: satya\n",
            "enter your surname: meena\n",
            "satyameena\n"
          ]
        }
      ]
    },
    {
      "cell_type": "code",
      "source": [
        "a = 50\n",
        "b = 10\n",
        "print(a+b)  #addition:\n",
        "\n",
        "print(a-b)  #subtraction:\n",
        "\n",
        "print(a/b)  # division:\n",
        "\n",
        "print(a*b)  # multiplication:\n",
        "\n",
        "print(a//b)  # Floor dividetion:\n",
        "\n",
        "print(a**b) #Exponentiation:\n",
        "\n",
        "print(a%b) # Modulo:"
      ],
      "metadata": {
        "colab": {
          "base_uri": "https://localhost:8080/"
        },
        "id": "3sXVb4L2FRN1",
        "outputId": "e4222237-6c23-4c8f-8890-b57c5fa46252"
      },
      "execution_count": 8,
      "outputs": [
        {
          "output_type": "stream",
          "name": "stdout",
          "text": [
            "60\n",
            "40\n",
            "5.0\n",
            "500\n",
            "5\n",
            "97656250000000000\n"
          ]
        }
      ]
    },
    {
      "cell_type": "code",
      "source": [
        "a = 10\n",
        "b = 15\n",
        "print(a<b) # Less than:\n",
        "\n",
        "print(a>b) # Greater than:\n",
        "\n",
        "print(a<=b) # Less than or equal to:\n",
        "\n",
        "print(a>=b)  # Greater than or equal to:\n",
        "\n",
        "print(a!=b) # Not equal to:\n",
        "\n",
        "print(a==b) # Equal to:"
      ],
      "metadata": {
        "colab": {
          "base_uri": "https://localhost:8080/"
        },
        "id": "PA12akg9GO10",
        "outputId": "b8fef920-f400-4298-c801-beba64bb4f93"
      },
      "execution_count": 9,
      "outputs": [
        {
          "output_type": "stream",
          "name": "stdout",
          "text": [
            "True\n",
            "False\n",
            "True\n",
            "False\n",
            "True\n",
            "False\n"
          ]
        }
      ]
    },
    {
      "cell_type": "code",
      "source": [
        "a = 10\n",
        "b = 20\n",
        "print(a<b and a>b) # Return True if both operands are True:\n",
        "\n",
        "print(a<b or a>b) # Return True if at least one operand is True:\n",
        "\n",
        "print(not(a<b and a>b)) # Reverses the logical state:"
      ],
      "metadata": {
        "colab": {
          "base_uri": "https://localhost:8080/"
        },
        "id": "-O2mt4OcG-tp",
        "outputId": "b1ebaa6e-057d-4329-edc2-af929e869d4e"
      },
      "execution_count": 10,
      "outputs": [
        {
          "output_type": "stream",
          "name": "stdout",
          "text": [
            "False\n",
            "True\n",
            "True\n"
          ]
        }
      ]
    },
    {
      "cell_type": "code",
      "source": [],
      "metadata": {
        "id": "HEvg_puVHkgs"
      },
      "execution_count": null,
      "outputs": []
    }
  ]
}